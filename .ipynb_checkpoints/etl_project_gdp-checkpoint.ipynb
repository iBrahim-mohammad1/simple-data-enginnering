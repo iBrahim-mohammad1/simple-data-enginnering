{
 "cells": [
  {
   "cell_type": "code",
   "execution_count": 13,
   "id": "ec655067",
   "metadata": {},
   "outputs": [],
   "source": [
    "from bs4 import BeautifulSoup\n",
    "import requests\n",
    "import pandas as pd\n",
    "import numpy as np\n",
    "import sqlite3\n",
    "from datetime import datetime \n",
    "from icecream import ic"
   ]
  },
  {
   "cell_type": "code",
   "execution_count": 14,
   "id": "4c7174f3",
   "metadata": {},
   "outputs": [
    {
     "name": "stdout",
     "output_type": "stream",
     "text": [
      "Requirement already satisfied: lxml in /Users/ibrahimmohammad/anaconda3/lib/python3.11/site-packages (4.9.2)\n",
      "Note: you may need to restart the kernel to use updated packages.\n"
     ]
    }
   ],
   "source": [
    "pip install lxml"
   ]
  },
  {
   "cell_type": "code",
   "execution_count": 85,
   "id": "e701f9ed",
   "metadata": {},
   "outputs": [
    {
     "data": {
      "text/plain": [
       "' Here, you define the required entities and call the relevant\\nfunctions in the correct order to complete the project. Note that this\\nportion is not inside any function.'"
      ]
     },
     "execution_count": 85,
     "metadata": {},
     "output_type": "execute_result"
    }
   ],
   "source": [
    "# Code for ETL operations on Country-GDP data\n",
    "\n",
    "# Importing the required libraries\n",
    "\n",
    "def log_progress(message):\n",
    "    ''' This function logs the mentioned message of a given stage of the\n",
    "    code execution to a log file. Function returns nothing'''\n",
    "\n",
    "def extract(url, table_attribs):\n",
    "    ''' This function aims to extract the required\n",
    "    information from the website and save it to a data frame. The\n",
    "    function returns the data frame for further processing. '''\n",
    "\n",
    "    return df\n",
    "\n",
    "def transform(df, csv_path):\n",
    "    ''' This function accesses the CSV file for exchange rate\n",
    "    information, and adds three columns to the data frame, each\n",
    "    containing the transformed version of Market Cap column to\n",
    "    respective currencies'''\n",
    "    return df\n",
    "\n",
    "def load_to_csv(df, csv_path):\n",
    "    ''' This function saves the final data frame as a CSV file in\n",
    "    the provided path. Function returns nothing.'''\n",
    "\n",
    "def load_to_db(df, sql_connection, table_name):\n",
    "    ''' This function saves the final data frame to a database\n",
    "    table with the provided name. Function returns nothing.'''\n",
    "\n",
    "def run_query(query_statement, sql_connection):\n",
    "    ''' This function runs the query on the database table and\n",
    "    prints the output on the terminal. Function returns nothing. '''\n",
    "\n",
    "''' Here, you define the required entities and call the relevant\n",
    "functions in the correct order to complete the project. Note that this\n",
    "portion is not inside any function.'''"
   ]
  },
  {
   "cell_type": "code",
   "execution_count": 87,
   "id": "03932375",
   "metadata": {},
   "outputs": [],
   "source": [
    "url = 'https://web.archive.org/web/20230908091635 /https://en.wikipedia.org/wiki/List_of_largest_banks'\n",
    "table_attribs = [\"Name\", \"MC_USD_Billion\"]\n",
    "db_name = 'Banks.db'\n",
    "table_name = 'Largest_banks'\n",
    "csv_path = './Largest_banks_data.csv'"
   ]
  },
  {
   "cell_type": "code",
   "execution_count": 116,
   "id": "6f57d673",
   "metadata": {},
   "outputs": [],
   "source": [
    "def extract(url, table_attribs):\n",
    "    \n",
    "        page = requests.get(url).text\n",
    "        soup = BeautifulSoup(page, 'html.parser')\n",
    "        df = pd.DataFrame(columns=table_attribs)\n",
    "        tables = soup.find_all('tbody')\n",
    "\n",
    "        if tables:\n",
    "            rows = tables[0].find_all('tr')\n",
    "\n",
    "            for row in rows:\n",
    "                if row.find('td') is not None:\n",
    "                    col = row.find_all('td')\n",
    "                    bank_name = col[1].find_all('a')[1]['title']\n",
    "                    market_cap = col[2].contents[0][:-1]\n",
    "                    data_dict = {\"Name\": bank_name, \"MC_USD_Billion\": float(market_cap)}\n",
    "                    df1 = pd.DataFrame(data_dict, index=[0])\n",
    "                    df = pd.concat([df, df1], ignore_index=True)\n",
    "\n",
    "            return df\n",
    "\n",
    "    "
   ]
  },
  {
   "cell_type": "code",
   "execution_count": 124,
   "id": "e3046b87",
   "metadata": {},
   "outputs": [
    {
     "ename": "IndentationError",
     "evalue": "unexpected indent (3971454414.py, line 7)",
     "output_type": "error",
     "traceback": [
      "\u001b[0;36m  Cell \u001b[0;32mIn[124], line 7\u001b[0;36m\u001b[0m\n\u001b[0;31m    df['MC_GBP_Billion'] = [np.round(x*exchange_rate['GBP'],2) for x in df['MC_USD_Billion']]\u001b[0m\n\u001b[0m    ^\u001b[0m\n\u001b[0;31mIndentationError\u001b[0m\u001b[0;31m:\u001b[0m unexpected indent\n"
     ]
    }
   ],
   "source": [
    "# "
   ]
  },
  {
   "cell_type": "code",
   "execution_count": 105,
   "id": "847490fc",
   "metadata": {},
   "outputs": [],
   "source": [
    "def load_to_csv(df, csv_path):\n",
    "    df.to_csv(csv_path)"
   ]
  },
  {
   "cell_type": "code",
   "execution_count": 106,
   "id": "aca2ce4c",
   "metadata": {},
   "outputs": [],
   "source": [
    "def load_to_db(df, sql_connection, table_name):\n",
    "    df.to_sql(table_name, sql_connection, if_exists='replace', index=False)"
   ]
  },
  {
   "cell_type": "code",
   "execution_count": 107,
   "id": "4af08579",
   "metadata": {},
   "outputs": [],
   "source": [
    "def run_query(query_statement, sql_connection):\n",
    "    print(query_statement)\n",
    "    query_output = pd.read_sql(query_statement, sql_connection)\n",
    "    print(query_output)"
   ]
  },
  {
   "cell_type": "code",
   "execution_count": 108,
   "id": "3ead8bcf",
   "metadata": {},
   "outputs": [],
   "source": [
    "def log_progress(message): \n",
    "    timestamp_format = '%Y-%h-%d-%H:%M:%S' # Year-Monthname-Day-Hour-Minute-Second \n",
    "    now = datetime.now() # get current timestamp \n",
    "    timestamp = now.strftime(timestamp_format) \n",
    "    with open(\"./etl_project_log.txt\",\"a\") as f: \n",
    "        f.write(timestamp + ' : ' + message + '\\n')"
   ]
  },
  {
   "cell_type": "code",
   "execution_count": 130,
   "id": "14c8d1ab",
   "metadata": {},
   "outputs": [
    {
     "ename": "NameError",
     "evalue": "name 'query_statement1' is not defined",
     "output_type": "error",
     "traceback": [
      "\u001b[0;31m---------------------------------------------------------------------------\u001b[0m",
      "\u001b[0;31mNameError\u001b[0m                                 Traceback (most recent call last)",
      "Cell \u001b[0;32mIn[130], line 26\u001b[0m\n\u001b[1;32m     24\u001b[0m query_statement2 \u001b[38;5;241m=\u001b[39m \u001b[38;5;124mf\u001b[39m\u001b[38;5;124m\"\u001b[39m\u001b[38;5;124mSELECT AVG(MC_GBP_Billion) FROM Largest_banks\u001b[39m\u001b[38;5;124m\"\u001b[39m\n\u001b[1;32m     25\u001b[0m query_statement3 \u001b[38;5;241m=\u001b[39m \u001b[38;5;124mf\u001b[39m\u001b[38;5;124m\"\u001b[39m\u001b[38;5;124mSELECT Name from Largest_banks LIMIT 5\u001b[39m\u001b[38;5;124m\"\u001b[39m\n\u001b[0;32m---> 26\u001b[0m run_query(query_statement1, sql_connection)\n\u001b[1;32m     28\u001b[0m log_progress(\u001b[38;5;124m'\u001b[39m\u001b[38;5;124mProcess Complete.\u001b[39m\u001b[38;5;124m'\u001b[39m)\n\u001b[1;32m     30\u001b[0m sql_connection\u001b[38;5;241m.\u001b[39mclose()\n",
      "\u001b[0;31mNameError\u001b[0m: name 'query_statement1' is not defined"
     ]
    }
   ],
   "source": [
    "log_progress('Preliminaries complete. Initiating ETL process')\n",
    "\n",
    "df = extract(url, table_attribs)\n",
    "\n",
    "log_progress('Data extraction complete. Initiating Transformation process')\n",
    "\n",
    "# df = transform(df, csv_path)\n",
    "\n",
    "log_progress('Data transformation complete. Initiating loading process')\n",
    "\n",
    "load_to_csv(df, csv_path)\n",
    "\n",
    "log_progress('Data saved to CSV file')\n",
    "\n",
    "sql_connection = sqlite3.connect('banks.db')\n",
    "\n",
    "log_progress('SQL Connection initiated.')\n",
    "\n",
    "load_to_db(df, sql_connection, table_name)\n",
    "\n",
    "log_progress('Data loaded to Database as table. Running the query')\n",
    "\n",
    "query_statement = f\"SELECT * FROM Largest_banks\"\n",
    "query_statement2 = f\"SELECT AVG(MC_GBP_Billion) FROM Largest_banks\"\n",
    "query_statement3 = f\"SELECT Name from Largest_banks LIMIT 5\"\n",
    "run_query(query_statement, sql_connection)\n",
    "\n",
    "log_progress('Process Complete.')\n",
    "\n",
    "sql_connection.close()"
   ]
  },
  {
   "cell_type": "code",
   "execution_count": null,
   "id": "c8cfb06c",
   "metadata": {},
   "outputs": [],
   "source": []
  }
 ],
 "metadata": {
  "kernelspec": {
   "display_name": "Python 3 (ipykernel)",
   "language": "python",
   "name": "python3"
  },
  "language_info": {
   "codemirror_mode": {
    "name": "ipython",
    "version": 3
   },
   "file_extension": ".py",
   "mimetype": "text/x-python",
   "name": "python",
   "nbconvert_exporter": "python",
   "pygments_lexer": "ipython3",
   "version": "3.11.4"
  }
 },
 "nbformat": 4,
 "nbformat_minor": 5
}
